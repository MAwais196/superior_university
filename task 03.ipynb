{
 "cells": [
  {
   "cell_type": "code",
   "execution_count": 7,
   "metadata": {},
   "outputs": [],
   "source": [
    "# LAB 03:\n",
    "#Model Based Reflex Agent\n",
    "class ModelBasedReflexAgent:\n",
    "    def __init__(self):\n",
    "        # Dictionary to store the previous action for each room\n",
    "        # Keys are room names, and values are either 'on' or 'off'\n",
    "        self.previous_action = {}\n",
    "    \n",
    "    def sense_temperature(self, room, current_temp):\n",
    "        # Determine whether to turn the heater on or off based on the current temperature\n",
    "        if current_temp < 22:\n",
    "            return 'on'\n",
    "        else:\n",
    "            return 'off'\n",
    "    \n",
    "    def act(self, room, current_temp):\n",
    "        # Get the desired action based on the current temperature\n",
    "        desired_action = self.sense_temperature(room, current_temp)\n",
    "        \n",
    "        # Check the previous action to avoid redundancy\n",
    "        if room in self.previous_action:\n",
    "            if self.previous_action[room] == desired_action:\n",
    "                # If the previous action is the same as the desired action, do nothing\n",
    "                print(f\"No action needed in {room}. Heater remains {desired_action}.\")\n",
    "            else:\n",
    "                # If the previous action is different, update the action and execute it\n",
    "                self.previous_action[room] = desired_action\n",
    "                print(f\"Heater turned {desired_action} in {room}.\")\n",
    "        else:\n",
    "            # If no previous action is recorded, execute the desired action and store it\n",
    "            self.previous_action[room] = desired_action\n",
    "            print(f\"Heater turned {desired_action} in {room}.\")\n"
   ]
  },
  {
   "cell_type": "code",
   "execution_count": 8,
   "metadata": {},
   "outputs": [
    {
     "name": "stdout",
     "output_type": "stream",
     "text": [
      "Heater turned on in Living Room.\n",
      "Heater turned on in Bedroom.\n",
      "Heater turned off in Kitchen.\n",
      "Heater turned on in Bathroom.\n",
      "Heater turned off in Bedroom.\n"
     ]
    }
   ],
   "source": [
    "agent = ModelBasedReflexAgent()\n",
    "\n",
    "# Simulating temperature changes in different rooms\n",
    "agent.act('Living Room', 20)  # Heater turned off1)  # Heater turned on\n",
    "agent.act('Bedroom', 21)  # Heater turned off0)  # No action needed (still on)\n",
    "agent.act('Kitchen', 22)  # Heater turned off1)  # Heater turned off0)  # No action needed (still on)2)  # Heater turned off\n",
    "agent.act('Bathroom', 20)      # Heater turned on\n",
    "agent.act('Bedroom', 22)      # Heater turned off\n",
    "\n"
   ]
  },
  {
   "cell_type": "code",
   "execution_count": null,
   "metadata": {},
   "outputs": [],
   "source": []
  }
 ],
 "metadata": {
  "kernelspec": {
   "display_name": "Python 3",
   "language": "python",
   "name": "python3"
  },
  "language_info": {
   "codemirror_mode": {
    "name": "ipython",
    "version": 3
   },
   "file_extension": ".py",
   "mimetype": "text/x-python",
   "name": "python",
   "nbconvert_exporter": "python",
   "pygments_lexer": "ipython3",
   "version": "3.12.3"
  }
 },
 "nbformat": 4,
 "nbformat_minor": 2
}
