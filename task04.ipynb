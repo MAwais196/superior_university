{
 "cells": [
  {
   "cell_type": "code",
   "execution_count": 1,
   "metadata": {},
   "outputs": [
    {
     "name": "stdout",
     "output_type": "stream",
     "text": [
      "Card number is valid.\n"
     ]
    }
   ],
   "source": [
    "#LAB 04:\n",
    "# Task o1:\n",
    "# LUHN Algorithem\n",
    "def luhn_algorithm(card_number):\n",
    "    # Convert card number to a list of integers\n",
    "    digits = [int(digit) for digit in str(card_number)]\n",
    "    \n",
    "    # Double every second digit from the right and subtract 9 if it's greater than 9\n",
    "    for i in range(len(digits)-2, -1, -2):\n",
    "        digits[i] *= 2\n",
    "        if digits[i] > 9:\n",
    "            digits[i] -= 9\n",
    "\n",
    "    # Sum all digits\n",
    "    total_sum = sum(digits)\n",
    "\n",
    "    # If the total modulo 10 is 0, the card number is valid\n",
    "    return total_sum % 10 == 0\n",
    "\n",
    "# Example Usage\n",
    "card_number = 4782780033078612\n",
    "if luhn_algorithm(card_number):\n",
    "    print(\"Card number is valid.\")\n",
    "else:\n",
    "    print(\"Card number is invalid.\")\n"
   ]
  },
  {
   "cell_type": "code",
   "execution_count": 2,
   "metadata": {},
   "outputs": [
    {
     "name": "stdout",
     "output_type": "stream",
     "text": [
      "Hello World Hows it going\n"
     ]
    },
    {
     "name": "stderr",
     "output_type": "stream",
     "text": [
      "<>:2: SyntaxWarning: invalid escape sequence '\\,'\n",
      "<>:2: SyntaxWarning: invalid escape sequence '\\,'\n",
      "C:\\Users\\hp\\AppData\\Local\\Temp\\ipykernel_11428\\1447912698.py:2: SyntaxWarning: invalid escape sequence '\\,'\n",
      "  punctuation = '''!()-[]{};:'\"\\,<>./?@#$%^&*_~'''\n"
     ]
    }
   ],
   "source": [
    "#Task 02:\n",
    "# Remove Punctuation\n",
    "def remove_punctuation(input_string):\n",
    "    punctuation = '''!()-[]{};:'\"\\,<>./?@#$%^&*_~'''\n",
    "    result = \"\"\n",
    "    \n",
    "    for char in input_string:\n",
    "        if char not in punctuation:\n",
    "            result += char\n",
    "    return result\n",
    "\n",
    "# Example Usage\n",
    "user_input = \"Hello, World! How's it going?\"\n",
    "clean_string = remove_punctuation(user_input)\n",
    "print(clean_string)\n"
   ]
  },
  {
   "cell_type": "code",
   "execution_count": 3,
   "metadata": {},
   "outputs": [
    {
     "name": "stdout",
     "output_type": "stream",
     "text": [
      "apple bannana orange\n"
     ]
    }
   ],
   "source": [
    "# Task 03:\n",
    "# Sort Text\n",
    "def sort_words(text):\n",
    "    # Split the text into words\n",
    "    words = text.split()\n",
    "    \n",
    "    # Bubble sort algorithm to sort words alphabetically\n",
    "    for i in range(len(words)):\n",
    "        for j in range(0, len(words)-i-1):\n",
    "            if words[j].lower() > words[j+1].lower():  # case insensitive sorting\n",
    "                # Swap if the current word is greater than the next word\n",
    "                words[j], words[j+1] = words[j+1], words[j]\n",
    "\n",
    "    return words\n",
    "\n",
    "# Example Usage\n",
    "text =\"bannana apple orange\"\n",
    "sorted_words = sort_words(text)\n",
    "print(\" \".join(sorted_words))\n"
   ]
  },
  {
   "cell_type": "code",
   "execution_count": null,
   "metadata": {},
   "outputs": [],
   "source": []
  }
 ],
 "metadata": {
  "kernelspec": {
   "display_name": "Python 3",
   "language": "python",
   "name": "python3"
  },
  "language_info": {
   "codemirror_mode": {
    "name": "ipython",
    "version": 3
   },
   "file_extension": ".py",
   "mimetype": "text/x-python",
   "name": "python",
   "nbconvert_exporter": "python",
   "pygments_lexer": "ipython3",
   "version": "3.12.3"
  }
 },
 "nbformat": 4,
 "nbformat_minor": 2
}
