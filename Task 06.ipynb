{
 "cells": [
  {
   "cell_type": "code",
   "execution_count": 1,
   "metadata": {},
   "outputs": [
    {
     "name": "stdout",
     "output_type": "stream",
     "text": [
      "1 2 3 4 "
     ]
    }
   ],
   "source": [
    "def bfs_recursive(graph, current_level, visited):\n",
    "    if not current_level:  # Base case: if no more nodes in the current level\n",
    "        return\n",
    "    \n",
    "    next_level = []  # List to keep track of nodes in the next level\n",
    "    for node in current_level:\n",
    "        if not visited[node]:\n",
    "            visited[node] = True  # Mark the node as visited\n",
    "            print(node, end=' ')   # Process the node (e.g., print its value)\n",
    "            \n",
    "            # Add all unvisited neighbors to the next level\n",
    "            for neighbor in graph[node]:\n",
    "                if not visited[neighbor]:\n",
    "                    next_level.append(neighbor)\n",
    "    \n",
    "    # Recursive call with the nodes in the next level\n",
    "    bfs_recursive(graph, next_level, visited)\n",
    "\n",
    "# Example usage:\n",
    "# Graph represented as an adjacency list\n",
    "# 1 - 2\n",
    "# |   |\n",
    "# 3 - 4\n",
    "graph = {\n",
    "    1: [2, 3],\n",
    "    2: [1, 4],\n",
    "    3: [1, 4],\n",
    "    4: [2, 3]\n",
    "}\n",
    "\n",
    "# Initialize visited list (False for each node)\n",
    "visited = {node: False for node in graph}\n",
    "\n",
    "# Start BFS from node 1\n",
    "start_node = 1\n",
    "bfs_recursive(graph, [start_node], visited)\n",
    "\n",
    "# Output: 1 2 3 4\n"
   ]
  },
  {
   "cell_type": "code",
   "execution_count": 2,
   "metadata": {},
   "outputs": [
    {
     "name": "stdout",
     "output_type": "stream",
     "text": [
      "1 2 3 4 5 "
     ]
    }
   ],
   "source": [
    "from collections import deque\n",
    "\n",
    "class Node:\n",
    "    def __init__(self, value):\n",
    "        self.value = value\n",
    "        self.neighbors = []  # List to store adjacent nodes (edges)\n",
    "        self.visited = False  # To track if the node is visited during BFS\n",
    "\n",
    "def bfs_with_queue(start_node):\n",
    "    queue = deque()  # Use a deque as a queue for BFS\n",
    "    queue.append(start_node)  # Enqueue the start node\n",
    "    start_node.visited = True  # Mark the start node as visited\n",
    "\n",
    "    while queue:\n",
    "        current_node = queue.popleft()  # Dequeue from the front of the queue\n",
    "        print(current_node.value, end=' ')  # Process the node (e.g., print its value)\n",
    "\n",
    "        # Enqueue all unvisited neighbors of the current node\n",
    "        for neighbor in current_node.neighbors:\n",
    "            if not neighbor.visited:\n",
    "                queue.append(neighbor)\n",
    "                neighbor.visited = True  # Mark neighbor as visited when enqueued\n",
    "\n",
    "# Example usage:\n",
    "# Create nodes\n",
    "node1 = Node(1)\n",
    "node2 = Node(2)\n",
    "node3 = Node(3)\n",
    "node4 = Node(4)\n",
    "node5 = Node(5)\n",
    "\n",
    "# Define edges (undirected graph)\n",
    "node1.neighbors = [node2, node3]\n",
    "node2.neighbors = [node1, node4]\n",
    "node3.neighbors = [node1, node5]\n",
    "node4.neighbors = [node2]\n",
    "node5.neighbors = [node3]\n",
    "\n",
    "# Perform BFS starting from node1\n",
    "bfs_with_queue(node1)\n"
   ]
  },
  {
   "cell_type": "code",
   "execution_count": null,
   "metadata": {},
   "outputs": [],
   "source": []
  }
 ],
 "metadata": {
  "kernelspec": {
   "display_name": "Python 3",
   "language": "python",
   "name": "python3"
  },
  "language_info": {
   "codemirror_mode": {
    "name": "ipython",
    "version": 3
   },
   "file_extension": ".py",
   "mimetype": "text/x-python",
   "name": "python",
   "nbconvert_exporter": "python",
   "pygments_lexer": "ipython3",
   "version": "3.12.3"
  }
 },
 "nbformat": 4,
 "nbformat_minor": 2
}
