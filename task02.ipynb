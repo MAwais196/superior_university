{
 "cells": [
  {
   "cell_type": "code",
   "execution_count": 3,
   "metadata": {},
   "outputs": [
    {
     "name": "stdout",
     "output_type": "stream",
     "text": [
      "Total budget: 734955294830\n",
      "Average budget: 73495529483.0\n",
      "commondo has a budget that is 639974039992.0 above the average\n",
      "High budget movies: [('commondo', 639974039992.0)]\n"
     ]
    }
   ],
   "source": [
    "#Mini Project 2:\n",
    "# Finding Average Budget of Movies\n",
    "\n",
    "movies =[\n",
    "    (\"Eternal Sunshine of the Spotless Mind\", 20000000),\n",
    "    (\"Memento\", 9000000),\n",
    "    (\"Requiem for a Dream\", 4500000),\n",
    "    (\"Pirates of the Caribbean: On Stranger Tides\", 379000000),\n",
    "    (\"Avengers: Age of Ultron\", 365000000),\n",
    "    (\"Avengers: Endgame\", 356000000),\n",
    "    (\"Incredibles 2\", 200000000)\n",
    "]\n",
    "Additional_movies=int(input(\"Enter the number of additional movies: \"))\n",
    "for i in range(Additional_movies):\n",
    "    name=input(\"Enter the movie name: \")\n",
    "    budget=int(input(\"Enter the movie budget: \"))\n",
    "    movies.append((name,budget))\n",
    "total_budget=sum(budget for _, budget in movies)\n",
    "average_budget=total_budget/len(movies)\n",
    "print(\"Total budget:\", total_budget)\n",
    "print(\"Average budget:\", average_budget)\n",
    "high_budget_movies=[]\n",
    "for name, budget in movies:\n",
    "    if budget > average_budget:\n",
    "        difference=budget-average_budget\n",
    "        high_budget_movies.append((name, difference))\n",
    "        print(f\"{name} has a budget that is {difference} above the average\")\n",
    "        \n",
    "print(\"High budget movies:\", high_budget_movies)"
   ]
  },
  {
   "cell_type": "code",
   "execution_count": 4,
   "metadata": {},
   "outputs": [
    {
     "name": "stdout",
     "output_type": "stream",
     "text": [
      "FizzBuzz game\n",
      "1\n",
      "2\n",
      "Fizz\n",
      "4\n",
      "Buzz\n",
      "Fizz\n",
      "7\n",
      "8\n",
      "Fizz\n",
      "Buzz\n",
      "11\n",
      "Fizz\n",
      "13\n",
      "14\n",
      "FizzBuzz\n",
      "16\n",
      "17\n",
      "Fizz\n",
      "19\n",
      "Buzz\n",
      "Fizz\n",
      "22\n",
      "23\n",
      "Fizz\n",
      "Buzz\n",
      "26\n",
      "Fizz\n",
      "28\n",
      "29\n",
      "FizzBuzz\n",
      "31\n",
      "32\n",
      "Fizz\n",
      "34\n",
      "Buzz\n",
      "Fizz\n",
      "37\n",
      "38\n",
      "Fizz\n",
      "Buzz\n",
      "41\n",
      "Fizz\n",
      "43\n",
      "44\n",
      "FizzBuzz\n",
      "46\n",
      "47\n",
      "Fizz\n",
      "49\n",
      "Buzz\n"
     ]
    }
   ],
   "source": [
    "# LAB 02:\n",
    "# Mini Project 1: FizzBuzz Game\n",
    "\n",
    "print(\"FizzBuzz game\")\n",
    "Start = int(input(\"Enter the start number: \"))\n",
    "End = int(input(\"Enter the end number: \"))\n",
    "for number in range(Start,End+1):\n",
    "    if number % 3 == 0 and number % 5 == 0:\n",
    "        print(\"FizzBuzz\")\n",
    "    elif number % 3 == 0:\n",
    "        print(\"Fizz\")\n",
    "    elif number % 5 == 0:\n",
    "        print(\"Buzz\")\n",
    "    else:\n",
    "        print(number)"
   ]
  }
 ],
 "metadata": {
  "kernelspec": {
   "display_name": "Python 3",
   "language": "python",
   "name": "python3"
  },
  "language_info": {
   "codemirror_mode": {
    "name": "ipython",
    "version": 3
   },
   "file_extension": ".py",
   "mimetype": "text/x-python",
   "name": "python",
   "nbconvert_exporter": "python",
   "pygments_lexer": "ipython3",
   "version": "3.12.3"
  }
 },
 "nbformat": 4,
 "nbformat_minor": 2
}
