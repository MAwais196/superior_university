{
 "cells": [
  {
   "cell_type": "code",
   "execution_count": 1,
   "metadata": {},
   "outputs": [
    {
     "name": "stdout",
     "output_type": "stream",
     "text": [
      "Visited: 1\n",
      "Visited: 3\n",
      "Visited: 5\n",
      "Visited: 2\n",
      "Visited: 4\n"
     ]
    }
   ],
   "source": [
    "class Node:\n",
    "    def __init__(self, value):\n",
    "        self.value = value\n",
    "        self.neighbors = []  # List of adjacent nodes (edges)\n",
    "        self.visited = False  # To track if the node is visited during DFS\n",
    "\n",
    "def dfs_with_stack(start_node):\n",
    "    stack = []\n",
    "    stack.append(start_node)  # Start with the initial node\n",
    "    start_node.visited = True  # Mark it as visited\n",
    "\n",
    "    while stack:\n",
    "        current_node = stack.pop()  # Pop a node from the stack\n",
    "        print(f\"Visited: {current_node.value}\")  # Process the node (e.g., print its value)\n",
    "\n",
    "        # Add all unvisited neighbors to the stack\n",
    "        for neighbor in current_node.neighbors:\n",
    "            if not neighbor.visited:\n",
    "                stack.append(neighbor)\n",
    "                neighbor.visited = True  # Mark neighbors as visited when added to stack\n",
    "\n",
    "# Example usage:\n",
    "# Create nodes\n",
    "node1 = Node(1)\n",
    "node2 = Node(2)\n",
    "node3 = Node(3)\n",
    "node4 = Node(4)\n",
    "node5 = Node(5)\n",
    "\n",
    "# Define edges (undirected graph)\n",
    "node1.neighbors = [node2, node3]\n",
    "node2.neighbors = [node1, node4]\n",
    "node3.neighbors = [node1, node5]\n",
    "node4.neighbors = [node2]\n",
    "node5.neighbors = [node3]\n",
    "\n",
    "# Perform DFS starting from node1\n",
    "dfs_with_stack(node1)\n"
   ]
  },
  {
   "cell_type": "code",
   "execution_count": 1,
   "metadata": {},
   "outputs": [
    {
     "name": "stdout",
     "output_type": "stream",
     "text": [
      "Inorder Traversal: \n",
      "4 2 5 1 3 6 \n",
      "Preorder Traversal: \n",
      "1 2 4 5 3 6 \n",
      "Postorder Traversal: \n",
      "4 5 2 6 3 1 "
     ]
    }
   ],
   "source": [
    "class Node:\n",
    "    def __init__(self, value):\n",
    "        self.value = value\n",
    "        self.left = None  # Left child\n",
    "        self.right = None  # Right child\n",
    "\n",
    "# Inorder Traversal: Left -> Root -> Right\n",
    "def inorder_traversal(node):\n",
    "    if node is not None:\n",
    "        inorder_traversal(node.left)  # Traverse left subtree\n",
    "        print(node.value, end=' ')    # Visit root node\n",
    "        inorder_traversal(node.right) # Traverse right subtree\n",
    "\n",
    "# Preorder Traversal: Root -> Left -> Right\n",
    "def preorder_traversal(node):\n",
    "    if node is not None:\n",
    "        print(node.value, end=' ')    # Visit root node\n",
    "        preorder_traversal(node.left) # Traverse left subtree\n",
    "        preorder_traversal(node.right) # Traverse right subtree\n",
    "\n",
    "# Postorder Traversal: Left -> Right -> Root\n",
    "def postorder_traversal(node):\n",
    "    if node is not None:\n",
    "        postorder_traversal(node.left)  # Traverse left subtree\n",
    "        postorder_traversal(node.right) # Traverse right subtree\n",
    "        print(node.value, end=' ')      # Visit root node\n",
    "\n",
    "# Example usage\n",
    "# Creating the tree\n",
    "#         1\n",
    "#        / \\\n",
    "#       2   3\n",
    "#      / \\   \\\n",
    "#     4   5   6\n",
    "root = Node(1)\n",
    "root.left = Node(2)\n",
    "root.right = Node(3)\n",
    "root.left.left = Node(4)\n",
    "root.left.right = Node(5)\n",
    "root.right.right = Node(6)\n",
    "\n",
    "# Perform tree traversals\n",
    "print(\"Inorder Traversal: \")\n",
    "inorder_traversal(root)  # Output: 4 2 5 1 3 6\n",
    "\n",
    "print(\"\\nPreorder Traversal: \")\n",
    "preorder_traversal(root)  # Output: 1 2 4 5 3 6\n",
    "\n",
    "print(\"\\nPostorder Traversal: \")\n",
    "postorder_traversal(root)  # Output: 4 5 2 6 3 1\n"
   ]
  },
  {
   "cell_type": "code",
   "execution_count": null,
   "metadata": {},
   "outputs": [],
   "source": []
  }
 ],
 "metadata": {
  "kernelspec": {
   "display_name": "Python 3",
   "language": "python",
   "name": "python3"
  },
  "language_info": {
   "codemirror_mode": {
    "name": "ipython",
    "version": 3
   },
   "file_extension": ".py",
   "mimetype": "text/x-python",
   "name": "python",
   "nbconvert_exporter": "python",
   "pygments_lexer": "ipython3",
   "version": "3.12.3"
  }
 },
 "nbformat": 4,
 "nbformat_minor": 2
}
