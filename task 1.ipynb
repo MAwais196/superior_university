{
 "cells": [
  {
   "cell_type": "code",
   "execution_count": 1,
   "metadata": {},
   "outputs": [
    {
     "name": "stdout",
     "output_type": "stream",
     "text": [
      " | | \n",
      "-----\n",
      " | | \n",
      "-----\n",
      " | | \n",
      "-----\n",
      "Player X's turn\n"
     ]
    }
   ],
   "source": [
    "# LAB 01:\n",
    "# Mini Projects\n",
    "# Tic tac toe(Dynamic)\n",
    "def print_board(board):\n",
    "    for row in board:\n",
    "        print(\"|\".join(row))\n",
    "        print(\"-\" * 5)\n",
    "\n",
    "def check_winner(board, player):\n",
    "    # Check rows, columns, and diagonals for a win\n",
    "    win_conditions = [\n",
    "        [board[0][0], board[0][1], board[0][2]],  # First row\n",
    "        [board[1][0], board[1][1], board[1][2]],  # Second row\n",
    "        [board[2][0], board[2][1], board[2][2]],  # Third row\n",
    "        [board[0][0], board[1][0], board[2][0]],  # First column\n",
    "        [board[0][1], board[1][1], board[2][1]],  # Second column\n",
    "        [board[0][2], board[1][2], board[2][2]],  # Third column\n",
    "        [board[0][0], board[1][1], board[2][2]],  # Diagonal \\\n",
    "        [board[0][2], board[1][1], board[2][0]]   # Diagonal /\n",
    "    ]\n",
    "    \n",
    "    # Check if any win condition is met\n",
    "    return any(condition == [player, player, player] for condition in win_conditions)\n",
    "\n",
    "def tic_tac_toe():\n",
    "    board = [[\" \" for _ in range(3)] for _ in range(3)]\n",
    "    current_player = \"X\"\n",
    "    \n",
    "    for turn in range(9):  # Maximum of 9 moves\n",
    "        print_board(board)\n",
    "        print(f\"Player {current_player}'s turn\")\n",
    "        \n",
    "        # Get player input and validate it\n",
    "        valid_move = False\n",
    "        while not valid_move:\n",
    "            try:\n",
    "                row, col = map(int, input(\"Enter row and column (0-2): \").split())\n",
    "                if row in range(3) and col in range(3) and board[row][col] == \" \":\n",
    "                    valid_move = True\n",
    "                else:\n",
    "                    print(\"Invalid input or spot already taken. Try again.\")\n",
    "            except ValueError:\n",
    "                print(\"Please enter valid numbers for row and column (0-2).\")\n",
    "\n",
    "        # Place the player's mark\n",
    "        board[row][col] = current_player\n",
    "        \n",
    "        # Check for win\n",
    "        if check_winner(board, current_player):\n",
    "            print_board(board)\n",
    "            print_board(board)\n",
    "            print(f\"Player {current_player} wins!\")\n",
    "            return\n",
    "        \n",
    "        # Switch player\n",
    "        current_player = \"O\" if current_player == \"X\" else \"X\"\n",
    "    \n",
    "    print_board(board)\n",
    "    print(\"It's a draw!\")\n",
    "\n",
    "tic_tac_toe()\n"
   ]
  },
  {
   "cell_type": "code",
   "execution_count": null,
   "metadata": {},
   "outputs": [],
   "source": []
  }
 ],
 "metadata": {
  "kernelspec": {
   "display_name": "Python 3",
   "language": "python",
   "name": "python3"
  },
  "language_info": {
   "codemirror_mode": {
    "name": "ipython",
    "version": 3
   },
   "file_extension": ".py",
   "mimetype": "text/x-python",
   "name": "python",
   "nbconvert_exporter": "python",
   "pygments_lexer": "ipython3",
   "version": "3.12.3"
  }
 },
 "nbformat": 4,
 "nbformat_minor": 2
}
